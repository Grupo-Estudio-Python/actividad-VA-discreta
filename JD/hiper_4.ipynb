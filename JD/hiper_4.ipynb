{
 "cells": [
  {
   "attachments": {},
   "cell_type": "markdown",
   "metadata": {},
   "source": [
    "## Distribucion hipergeometrica - Ejercicio 4\n",
    "\n",
    "* **Nombre**: Juan Diego Taborda Roldán\n",
    "* **Distribucion**: Hipergeometrica\n",
    "* **Punto**: 4\n",
    "\n",
    "## Enunciado ##\n",
    "4. Se capturaron, etiquetaron y liberaron cinco individuos de una población de animales que se piensa están al borde la extinción en una región para que se mezclen con la población. Después de haber tenido la oportunidad de mezclarse, se selecciona una muestra aleatoria de 10 de estos animales. Sea **X = el número de animales etiquetados en la segunda muestra**. Si en realidad hay 25 animales de este tipo en la región, ¿cuál es la probabilidad de que:\n",
    "   <ol style=\"list-style-type: lower-alpha\">\n",
    "   <li>El numero de animales etiquetados en la segunda muestra sea de dos(<b>Rta</b>: 0.385) </li>\n",
    "   <li>El numero de animales etiquetados en la segunda muestra no supere los dos (<b>Rta</b>: 0.699)</li>\n",
    "   <li>Calcule la media y la varianza del problrma (<b>Media</b>: 2.0; <b>Varianza</b>: 1.0)</li>\n",
    "   </ol>"
   ]
  },
  {
   "cell_type": "code",
   "execution_count": null,
   "metadata": {},
   "outputs": [],
   "source": [
    "# Code..."
   ]
  }
 ],
 "metadata": {
  "kernelspec": {
   "display_name": "Python 3",
   "language": "python",
   "name": "python3"
  },
  "language_info": {
   "name": "python",
   "version": "3.10.5"
  },
  "orig_nbformat": 4,
  "vscode": {
   "interpreter": {
    "hash": "26de051ba29f2982a8de78e945f0abaf191376122a1563185a90213a26c5da77"
   }
  }
 },
 "nbformat": 4,
 "nbformat_minor": 2
}
