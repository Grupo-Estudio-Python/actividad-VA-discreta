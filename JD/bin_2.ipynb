{
 "cells": [
  {
   "attachments": {},
   "cell_type": "markdown",
   "metadata": {},
   "source": [
    "## Distribucion binomial - Ejercicio 6 \n",
    "\n",
    "* **Nombre**: tigarto\n",
    "* **Distribucion**: binomial\n",
    "* **Punto**: 6\n",
    "\n",
    "## Enunciado ##\n",
    "\n",
    "Se construye un complejo sistema electrónico con cierto número de piezas de respaldo en sus subsistemas. Un subsistema tiene cuatro componentes idénticos, cada uno con una probabilidad de 0.2 de fallar en menos de 1000 horas. El subsistema funciona si dos de los cuatro componentes están operando. Suponga que los componentes operan de manera independiente. Encuentre la probabilidad de que:\n",
    "1. Exactamente dos de los cuatro componentes dure más de 1000 horas. (Rta: 0.1536)\n",
    "2. El subsistema opere más de 1000 horas. (Rta: 0.9728)"
   ]
  },
  {
   "cell_type": "code",
   "execution_count": null,
   "metadata": {},
   "outputs": [],
   "source": [
    "# Code..."
   ]
  }
 ],
 "metadata": {
  "language_info": {
   "name": "python"
  },
  "orig_nbformat": 4
 },
 "nbformat": 4,
 "nbformat_minor": 2
}
