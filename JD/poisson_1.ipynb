{
 "cells": [
  {
   "attachments": {},
   "cell_type": "markdown",
   "metadata": {},
   "source": [
    "## Distribucion Poisson - Ejercicio 1 \n",
    "\n",
    "* **Nombre**: Juan Diego Taborda Roldán\n",
    "* **Distribucion**: Poisson\n",
    "* **Punto**: 1\n",
    "\n",
    "## Enunciado ##\n",
    "1. El número de errores mecanográficos hechos por una secretaria tiene una distribución de Poisson con\n",
    "un promedio de cuatro errores por página. Si en una página se dan más de cuatro errores, la secretaria\n",
    "debe volver a escribir toda la página. ¿Cuál es la probabilidad de que una página seleccionada al azar no\n",
    "tenga que volver a ser escrita? (**Rta**: 0.6288))"
   ]
  },
  {
   "cell_type": "code",
   "execution_count": null,
   "metadata": {},
   "outputs": [],
   "source": [
    "# Code..."
   ]
  }
 ],
 "metadata": {
  "kernelspec": {
   "display_name": "Python 3",
   "language": "python",
   "name": "python3"
  },
  "language_info": {
   "name": "python",
   "version": "3.10.5"
  },
  "orig_nbformat": 4,
  "vscode": {
   "interpreter": {
    "hash": "26de051ba29f2982a8de78e945f0abaf191376122a1563185a90213a26c5da77"
   }
  }
 },
 "nbformat": 4,
 "nbformat_minor": 2
}
